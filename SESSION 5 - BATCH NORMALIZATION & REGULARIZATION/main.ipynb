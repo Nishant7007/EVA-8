{
  "nbformat": 4,
  "nbformat_minor": 0,
  "metadata": {
    "colab": {
      "provenance": []
    },
    "kernelspec": {
      "name": "python3",
      "display_name": "Python 3"
    },
    "language_info": {
      "name": "python"
    },
    "accelerator": "GPU",
    "gpuClass": "standard"
  },
  "cells": [
    {
      "cell_type": "markdown",
      "metadata": {
        "id": "YzwYSudvcvcd"
      },
      "source": [
        "#**Import libraries**"
      ]
    },
    {
      "cell_type": "code",
      "execution_count": 1,
      "metadata": {
        "id": "1BVAsQ4vcpon"
      },
      "outputs": [],
      "source": [
        "from __future__ import print_function\n",
        "import torch\n",
        "import torch.nn as nn\n",
        "import torch.nn.functional as F\n",
        "import torch.optim as optim\n",
        "from torchvision import datasets, transforms"
      ]
    },
    {
      "cell_type": "code",
      "source": [
        "from google.colab import drive\n",
        "drive.mount('/content/drive', force_remount = True)"
      ],
      "metadata": {
        "colab": {
          "base_uri": "https://localhost:8080/"
        },
        "id": "fjOYFuU0Rdun",
        "outputId": "fd5860d2-e0e5-4bee-d224-ec4e4f6def31"
      },
      "execution_count": 2,
      "outputs": [
        {
          "output_type": "stream",
          "name": "stdout",
          "text": [
            "Mounted at /content/drive\n"
          ]
        }
      ]
    },
    {
      "cell_type": "code",
      "source": [
        "%cd 'drive/MyDrive/EVA8/Session 5 - Assignment'"
      ],
      "metadata": {
        "colab": {
          "base_uri": "https://localhost:8080/"
        },
        "id": "uUUrVtDXR0jF",
        "outputId": "77e3f64f-bbb5-459b-d78c-82653bf52ebe"
      },
      "execution_count": 3,
      "outputs": [
        {
          "output_type": "stream",
          "name": "stdout",
          "text": [
            "/content/drive/MyDrive/EVA8/Session 5 - Assignment\n"
          ]
        }
      ]
    },
    {
      "cell_type": "code",
      "source": [
        "from model import NetWithGN, NetWithLN, NetWithBN"
      ],
      "metadata": {
        "id": "EFTYkSmmRx96"
      },
      "execution_count": 4,
      "outputs": []
    },
    {
      "cell_type": "markdown",
      "metadata": {
        "id": "IVyULrGtf2oj"
      },
      "source": [
        "#**Data Transformations (without normalization)** "
      ]
    },
    {
      "cell_type": "code",
      "execution_count": 5,
      "metadata": {
        "id": "F3I4ATOAfwdA"
      },
      "outputs": [],
      "source": [
        "# Train Phase transformations\n",
        "train_transforms = transforms.Compose([\n",
        "                                      transforms.RandomRotation((-7.0, 7.0), fill=(1,)),\n",
        "                                      transforms.ToTensor()\n",
        "                                       ])\n",
        "\n",
        "# Test Phase transformations\n",
        "test_transforms = transforms.Compose([\n",
        "                                      transforms.ToTensor()\n",
        "                                       ])\n"
      ]
    },
    {
      "cell_type": "markdown",
      "metadata": {
        "id": "oQciFYo2B1mO"
      },
      "source": [
        "# **Dataset and Creating Train/Test Split (without normalization)**"
      ]
    },
    {
      "cell_type": "code",
      "execution_count": 6,
      "metadata": {
        "id": "_4A84rlfDA23"
      },
      "outputs": [],
      "source": [
        "train = datasets.MNIST('./data', train=True, download=True, transform=train_transforms)\n",
        "test = datasets.MNIST('./data', train=False, download=True, transform=test_transforms)"
      ]
    },
    {
      "cell_type": "markdown",
      "metadata": {
        "id": "qgldp_3-Dn0c"
      },
      "source": [
        "# **Dataloader Arguments & Test/Train Dataloaders (without normalization)**\n"
      ]
    },
    {
      "cell_type": "code",
      "execution_count": 7,
      "metadata": {
        "id": "C8OLDR79DrHG",
        "colab": {
          "base_uri": "https://localhost:8080/"
        },
        "outputId": "58266401-aec5-42d4-d5dd-5bfe982b039a"
      },
      "outputs": [
        {
          "output_type": "stream",
          "name": "stdout",
          "text": [
            "CUDA Available? True\n"
          ]
        },
        {
          "output_type": "stream",
          "name": "stderr",
          "text": [
            "/usr/local/lib/python3.8/dist-packages/torch/utils/data/dataloader.py:554: UserWarning: This DataLoader will create 4 worker processes in total. Our suggested max number of worker in current system is 2, which is smaller than what this DataLoader is going to create. Please be aware that excessive worker creation might get DataLoader running slow or even freeze, lower the worker number to avoid potential slowness/freeze if necessary.\n",
            "  warnings.warn(_create_warning_msg(\n"
          ]
        }
      ],
      "source": [
        "SEED = 1\n",
        "\n",
        "# CUDA?\n",
        "cuda = torch.cuda.is_available()\n",
        "print(\"CUDA Available?\", cuda)\n",
        "\n",
        "# For reproducibility\n",
        "torch.manual_seed(SEED)\n",
        "\n",
        "if cuda:\n",
        "    torch.cuda.manual_seed(SEED)\n",
        "\n",
        "# dataloader arguments - something you'll fetch these from cmdprmt\n",
        "dataloader_args = dict(shuffle=True, batch_size=128, num_workers=4, pin_memory=True) if cuda else dict(shuffle=True, batch_size=64)\n",
        "\n",
        "# train dataloader\n",
        "train_loader = torch.utils.data.DataLoader(train, **dataloader_args)\n",
        "\n",
        "# test dataloader\n",
        "test_loader = torch.utils.data.DataLoader(test, **dataloader_args)"
      ]
    },
    {
      "cell_type": "markdown",
      "metadata": {
        "id": "cFlf4r-dBRXB"
      },
      "source": [
        "#**Data Transformations (with normalization)**"
      ]
    },
    {
      "cell_type": "code",
      "execution_count": 8,
      "metadata": {
        "id": "d3sjCYM1BRXC"
      },
      "outputs": [],
      "source": [
        "# Train Phase transformations\n",
        "train_transforms = transforms.Compose([\n",
        "                                      transforms.RandomRotation((-7.0, 7.0), fill=(1,)),\n",
        "                                      transforms.ToTensor(),\n",
        "                                      transforms.Normalize((0.1307,), (0.3081,)) \n",
        "                                       ])\n",
        "\n",
        "# Test Phase transformations\n",
        "test_transforms = transforms.Compose([\n",
        "                                      transforms.ToTensor(),\n",
        "                                      transforms.Normalize((0.1307,), (0.3081,)) \n",
        "                                       ])\n"
      ]
    },
    {
      "cell_type": "markdown",
      "metadata": {
        "id": "F0c0BiItBRXC"
      },
      "source": [
        "# **Dataset and Creating Train/Test Split (with normalization)**"
      ]
    },
    {
      "cell_type": "code",
      "execution_count": 9,
      "metadata": {
        "id": "Nmv15WCpBRXD"
      },
      "outputs": [],
      "source": [
        "train = datasets.MNIST('./data', train=True, download=True, transform=train_transforms)\n",
        "test = datasets.MNIST('./data', train=False, download=True, transform=test_transforms)"
      ]
    },
    {
      "cell_type": "markdown",
      "metadata": {
        "id": "0eLxSwmlB64s"
      },
      "source": [
        "# **Dataloader Arguments & Test/Train Dataloaders (with normalization)**\n"
      ]
    },
    {
      "cell_type": "code",
      "execution_count": 10,
      "metadata": {
        "id": "J0CSebOXB64t",
        "colab": {
          "base_uri": "https://localhost:8080/"
        },
        "outputId": "98dda50f-2052-4e9c-d729-bdfcee78087b"
      },
      "outputs": [
        {
          "output_type": "stream",
          "name": "stdout",
          "text": [
            "CUDA Available? True\n"
          ]
        }
      ],
      "source": [
        "SEED = 1\n",
        "\n",
        "# CUDA?\n",
        "cuda = torch.cuda.is_available()\n",
        "print(\"CUDA Available?\", cuda)\n",
        "\n",
        "# For reproducibility\n",
        "torch.manual_seed(SEED)\n",
        "\n",
        "if cuda:\n",
        "    torch.cuda.manual_seed(SEED)\n",
        "\n",
        "# dataloader arguments - something you'll fetch these from cmdprmt\n",
        "dataloader_args = dict(shuffle=True, batch_size=128, num_workers=4, pin_memory=True) if cuda else dict(shuffle=True, batch_size=64)\n",
        "\n",
        "# train dataloader\n",
        "train_loader = torch.utils.data.DataLoader(train, **dataloader_args)\n",
        "\n",
        "# test dataloader\n",
        "test_loader = torch.utils.data.DataLoader(test, **dataloader_args)"
      ]
    },
    {
      "cell_type": "markdown",
      "metadata": {
        "id": "SuZo0ErBB64u"
      },
      "source": [
        "#**plot some images to see which image augmentation to use (with normalization)**\n",
        "We will plot some images to see which image augmentation technique we can use"
      ]
    },
    {
      "cell_type": "code",
      "execution_count": 11,
      "metadata": {
        "id": "xZzQGHy_B64u",
        "colab": {
          "base_uri": "https://localhost:8080/",
          "height": 246
        },
        "outputId": "f314cc16-65a0-4012-ff26-a6b4cde5c098"
      },
      "outputs": [
        {
          "output_type": "display_data",
          "data": {
            "text/plain": [
              "<Figure size 432x288 with 60 Axes>"
            ],
            "image/png": "[encoded data removed]"
          },
          "metadata": {
            "needs_background": "light"
          }
        }
      ],
      "source": [
        "dataiter = iter(train_loader)\n",
        "images, labels = next(dataiter)\n",
        "\n",
        "# Let's visualize some of the images\n",
        "%matplotlib inline\n",
        "import matplotlib.pyplot as plt\n",
        "\n",
        "figure = plt.figure()\n",
        "num_of_images = 60\n",
        "for index in range(1, num_of_images + 1):\n",
        "    plt.subplot(6, 10, index)\n",
        "    plt.axis('off')\n",
        "    plt.imshow(images[index].numpy().squeeze(), cmap='gray_r')"
      ]
    },
    {
      "cell_type": "markdown",
      "metadata": {
        "id": "ikVbAVyyOtnb"
      },
      "source": [
        "**Training and Testing**"
      ]
    },
    {
      "cell_type": "code",
      "execution_count": 12,
      "metadata": {
        "id": "V5vs-rTUNLvs"
      },
      "outputs": [],
      "source": [
        "from tqdm import tqdm\n",
        "\n",
        "class TrainAndTest:\n",
        "  def __init__(self):\n",
        "    self.train_losses = []\n",
        "    self.test_losses = []\n",
        "    self.train_acc = []\n",
        "    self.test_acc = []\n",
        "    self.misclassified_images = []\n",
        "\n",
        "  def train(self, model, device, train_loader, optimizer, epoch, task):\n",
        "    \"\"\"\n",
        "    this function will train the model \n",
        "    params model: model to be used for training\n",
        "    params devide: can be GPU or CPu\n",
        "    params train_loader: traininig data\n",
        "    optimiser: optimiser to be used\n",
        "    epoch: epoch number\n",
        "    task: task for which training will be performed (can be 'GN' for Group normalisation, 'LN' for Layer normalisation or 'BN' for batch normalisation. \n",
        "          If this is 'BN' then only we will do L1 regularisation)\n",
        "    returns: train_acc, train_losses\n",
        "    \"\"\"\n",
        "    model.train()\n",
        "    pbar = tqdm(train_loader)\n",
        "    correct = 0\n",
        "    processed = 0\n",
        "    for batch_idx, (data, target) in enumerate(pbar):\n",
        "      # get samples\n",
        "      data, target = data.to(device), target.to(device)\n",
        "\n",
        "      # Init\n",
        "      optimizer.zero_grad()\n",
        "      # In PyTorch, we need to set the gradients to zero before starting to do backpropragation because PyTorch accumulates the gradients on subsequent backward passes. \n",
        "      # Because of this, when you start your training loop, ideally you should zero out the gradients so that you do the parameter update correctly.\n",
        "\n",
        "      # Predict\n",
        "      y_pred = model(data)\n",
        "\n",
        "      # Calculate loss\n",
        "      loss = F.nll_loss(y_pred, target)\n",
        "\n",
        "      # Calculate 'L1' regularization loss if task == 'BN'\n",
        "      if(task=='BN'):\n",
        "        lambda_l1 = 0.01\n",
        "        l1_reg = 0\n",
        "        for param in model.parameters():\n",
        "            l1_reg += torch.norm(param, p=1)\n",
        "        l1_loss = lambda_l1 * l1_reg\n",
        "        loss += l1_loss\n",
        "\n",
        "      self.train_losses.append(loss)\n",
        "\n",
        "      # Backpropagation\n",
        "      loss.backward()\n",
        "      optimizer.step()\n",
        "\n",
        "      # Update pbar-tqdm\n",
        "      \n",
        "      pred = y_pred.argmax(dim=1, keepdim=True)  # get the index of the max log-probability\n",
        "      correct += pred.eq(target.view_as(pred)).sum().item()\n",
        "      processed += len(data)\n",
        "\n",
        "      pbar.set_description(desc= f'Loss={loss.item()} Batch_id={batch_idx} Accuracy={100*correct/processed:0.2f}')\n",
        "      self.train_acc.append(100*correct/processed)\n",
        "    return self.train_acc, self.train_losses\n",
        "\n",
        "  def test(self, model, device, test_loader):\n",
        "    \"\"\"\n",
        "    this function will test the model in test data\n",
        "    params model: model to be tested\n",
        "    params devide: can be GPU or CPU\n",
        "    params test_loader: test data \n",
        "    returns: test_acc, test_losses and misclassified_images\n",
        "    \"\"\"\n",
        "    model.eval()\n",
        "    test_loss = 0\n",
        "    correct = 0\n",
        "    with torch.no_grad():\n",
        "        for data, target in test_loader:\n",
        "            data, target = data.to(device), target.to(device)\n",
        "            output = model(data)\n",
        "            test_loss += F.nll_loss(output, target, reduction='sum').item()  # sum up batch loss\n",
        "            pred = output.argmax(dim=1, keepdim=True)  # get the index of the max log-probability\n",
        "            indices = [item[0] for item in (pred.eq(target.view_as(pred)) == False).nonzero().tolist()]\n",
        "            mis_imgs = data[indices, :, :, :]\n",
        "            self.misclassified_images.extend(mis_imgs)\n",
        "            correct += pred.eq(target.view_as(pred)).sum().item()\n",
        "\n",
        "    test_loss /= len(test_loader.dataset)\n",
        "    self.test_losses.append(test_loss)\n",
        "\n",
        "    print('\\nTest set: Average loss: {:.4f}, Accuracy: {}/{} ({:.2f}%)\\n'.format(\n",
        "        test_loss, correct, len(test_loader.dataset),\n",
        "        100. * correct / len(test_loader.dataset)))\n",
        "    \n",
        "    self.test_acc.append(100. * correct / len(test_loader.dataset))\n",
        "    return self.test_acc, self.test_losses, self.misclassified_images"
      ]
    },
    {
      "cell_type": "code",
      "source": [
        "use_cuda = torch.cuda.is_available()\n",
        "device = torch.device(\"cuda\" if use_cuda else \"cpu\")"
      ],
      "metadata": {
        "id": "-r83jzUaRZi1"
      },
      "execution_count": 13,
      "outputs": []
    },
    {
      "cell_type": "code",
      "source": [
        "def get_model(task_name):\n",
        "  \"\"\"\n",
        "  this function will return the model based on the task_name\n",
        "  params task_name: 'GN', 'LN' or 'BN'\n",
        "  returns: model\n",
        "  \"\"\"\n",
        "  if (task_name=='GN'):\n",
        "    print(\"You have chosen GN, Now we will perform Group Normalisation\")\n",
        "    model =  NetWithGN().to(device)\n",
        "  elif(task_name=='LN'):\n",
        "    print(\"You have chosen LN, Now we will perform Layer Normalisation\")\n",
        "    model =  NetWithLN().to(device)\n",
        "  elif(task_name=='BN'):\n",
        "    print(\"You have chosen BN, Now we will perform Batch Normalisation with L1 regularisation\")\n",
        "    model =  NetWithBN().to(device)\n",
        "  return model"
      ],
      "metadata": {
        "id": "zql0xJAZVLRd"
      },
      "execution_count": 14,
      "outputs": []
    },
    {
      "cell_type": "code",
      "execution_count": 15,
      "metadata": {
        "id": "p2FW485GOw73"
      },
      "outputs": [],
      "source": [
        "from torch.optim.lr_scheduler import StepLR\n",
        "def perform_tasks(task_name):\n",
        "  \"\"\"\n",
        "  performs the train and test on the data \n",
        "  params task_name: (GN, LN, BN)\n",
        "  returns: train_acc, train_losses, test_acc, test_losses, misclassified_images\n",
        "  \"\"\"\n",
        "  model = get_model(task_name) #get the model based on the task name (GN, LN, BN)\n",
        "  optimizer = optim.SGD(model.parameters(), lr=0.01, momentum=0.9) #declare optimiser\n",
        "  scheduler = StepLR(optimizer, step_size=6, gamma=0.1) #learning rate scheduler\n",
        "  train_test_obj = TrainAndTest() #create the obejct of TrainAndTest class\n",
        "  EPOCHS = 20\n",
        "  for epoch in range(EPOCHS): #for each epoch\n",
        "      print(\"EPOCH:\", epoch)\n",
        "      train_acc, train_losses = train_test_obj.train(model, device, train_loader, optimizer, epoch, task_name) #model train using the selected model \n",
        "      scheduler.step() #update weights\n",
        "      test_acc, test_losses, misclassified_images = train_test_obj.test(model, device, test_loader) #test model using test data\n",
        "  return train_acc, train_losses, test_acc, test_losses, misclassified_images"
      ]
    },
    {
      "cell_type": "code",
      "source": [
        "import random\n",
        "def show_misclassified_images(misclassified_images, task_name):\n",
        "  \"\"\"\n",
        "  show 10 misclassified images\n",
        "  \"\"\"\n",
        "  misclassified_images = random.sample(misclassified_images, 10)\n",
        "  fig, axs = plt.subplots(nrows=5, ncols=2, figsize=(8, 12))\n",
        "  axs = axs.ravel()\n",
        "\n",
        "  for i, ax in enumerate(axs):\n",
        "      if i < 10:\n",
        "          ax.imshow(misclassified_images[i].cpu().numpy().squeeze(), cmap='gray')\n",
        "          ax.set_title('Image ' + str(i))\n",
        "\n",
        "  plt.tight_layout()\n",
        "  plt.suptitle('Misclassified images using Group Normalisation', y=1.02)\n",
        "  plt.show()"
      ],
      "metadata": {
        "id": "qwJjO5p-NyjH"
      },
      "execution_count": 16,
      "outputs": []
    },
    {
      "cell_type": "markdown",
      "source": [
        "**Group Normalisation**"
      ],
      "metadata": {
        "id": "Ex7ZZN_DOZHW"
      }
    },
    {
      "cell_type": "code",
      "source": [
        "task_name = 'GN'\n",
        "train_acc_GN, train_losses_GN, test_acc_GN, test_losses_GN, misclassified_images_GN = perform_tasks(task_name)\n",
        "train_losses_GN = [i.item() for i in train_losses_GN]"
      ],
      "metadata": {
        "colab": {
          "base_uri": "https://localhost:8080/"
        },
        "id": "iezx__uIl5WM",
        "outputId": "cb809201-7513-461c-8439-4325d3b9568b"
      },
      "execution_count": 17,
      "outputs": [
        {
          "output_type": "stream",
          "name": "stdout",
          "text": [
            "You have chosen GN, Now we will perform Group Normalisation\n",
            "EPOCH: 0\n"
          ]
        },
        {
          "output_type": "stream",
          "name": "stderr",
          "text": [
            "Loss=0.10099100321531296 Batch_id=468 Accuracy=85.39: 100%|██████████| 469/469 [00:23<00:00, 19.93it/s]\n"
          ]
        },
        {
          "output_type": "stream",
          "name": "stdout",
          "text": [
            "\n",
            "Test set: Average loss: 0.0715, Accuracy: 9780/10000 (97.80%)\n",
            "\n",
            "EPOCH: 1\n"
          ]
        },
        {
          "output_type": "stream",
          "name": "stderr",
          "text": [
            "Loss=0.2208859771490097 Batch_id=468 Accuracy=95.34: 100%|██████████| 469/469 [00:18<00:00, 25.96it/s]\n"
          ]
        },
        {
          "output_type": "stream",
          "name": "stdout",
          "text": [
            "\n",
            "Test set: Average loss: 0.0558, Accuracy: 9805/10000 (98.05%)\n",
            "\n",
            "EPOCH: 2\n"
          ]
        },
        {
          "output_type": "stream",
          "name": "stderr",
          "text": [
            "Loss=0.18397341668605804 Batch_id=468 Accuracy=96.09: 100%|██████████| 469/469 [00:17<00:00, 26.23it/s]\n"
          ]
        },
        {
          "output_type": "stream",
          "name": "stdout",
          "text": [
            "\n",
            "Test set: Average loss: 0.0422, Accuracy: 9851/10000 (98.51%)\n",
            "\n",
            "EPOCH: 3\n"
          ]
        },
        {
          "output_type": "stream",
          "name": "stderr",
          "text": [
            "Loss=0.07414469867944717 Batch_id=468 Accuracy=96.60: 100%|██████████| 469/469 [00:17<00:00, 26.08it/s]\n"
          ]
        },
        {
          "output_type": "stream",
          "name": "stdout",
          "text": [
            "\n",
            "Test set: Average loss: 0.0311, Accuracy: 9899/10000 (98.99%)\n",
            "\n",
            "EPOCH: 4\n"
          ]
        },
        {
          "output_type": "stream",
          "name": "stderr",
          "text": [
            "Loss=0.21478994190692902 Batch_id=468 Accuracy=96.84: 100%|██████████| 469/469 [00:18<00:00, 25.78it/s]\n"
          ]
        },
        {
          "output_type": "stream",
          "name": "stdout",
          "text": [
            "\n",
            "Test set: Average loss: 0.0309, Accuracy: 9902/10000 (99.02%)\n",
            "\n",
            "EPOCH: 5\n"
          ]
        },
        {
          "output_type": "stream",
          "name": "stderr",
          "text": [
            "Loss=0.06412800401449203 Batch_id=468 Accuracy=97.05: 100%|██████████| 469/469 [00:18<00:00, 26.05it/s]\n"
          ]
        },
        {
          "output_type": "stream",
          "name": "stdout",
          "text": [
            "\n",
            "Test set: Average loss: 0.0286, Accuracy: 9895/10000 (98.95%)\n",
            "\n",
            "EPOCH: 6\n"
          ]
        },
        {
          "output_type": "stream",
          "name": "stderr",
          "text": [
            "Loss=0.04658593237400055 Batch_id=468 Accuracy=97.47: 100%|██████████| 469/469 [00:18<00:00, 25.82it/s]\n"
          ]
        },
        {
          "output_type": "stream",
          "name": "stdout",
          "text": [
            "\n",
            "Test set: Average loss: 0.0209, Accuracy: 9924/10000 (99.24%)\n",
            "\n",
            "EPOCH: 7\n"
          ]
        },
        {
          "output_type": "stream",
          "name": "stderr",
          "text": [
            "Loss=0.06047584488987923 Batch_id=468 Accuracy=97.62: 100%|██████████| 469/469 [00:18<00:00, 25.74it/s]\n"
          ]
        },
        {
          "output_type": "stream",
          "name": "stdout",
          "text": [
            "\n",
            "Test set: Average loss: 0.0198, Accuracy: 9925/10000 (99.25%)\n",
            "\n",
            "EPOCH: 8\n"
          ]
        },
        {
          "output_type": "stream",
          "name": "stderr",
          "text": [
            "Loss=0.09823957830667496 Batch_id=468 Accuracy=97.53: 100%|██████████| 469/469 [00:18<00:00, 26.04it/s]\n"
          ]
        },
        {
          "output_type": "stream",
          "name": "stdout",
          "text": [
            "\n",
            "Test set: Average loss: 0.0212, Accuracy: 9921/10000 (99.21%)\n",
            "\n",
            "EPOCH: 9\n"
          ]
        },
        {
          "output_type": "stream",
          "name": "stderr",
          "text": [
            "Loss=0.05961877107620239 Batch_id=468 Accuracy=97.69: 100%|██████████| 469/469 [00:18<00:00, 25.92it/s]\n"
          ]
        },
        {
          "output_type": "stream",
          "name": "stdout",
          "text": [
            "\n",
            "Test set: Average loss: 0.0198, Accuracy: 9921/10000 (99.21%)\n",
            "\n",
            "EPOCH: 10\n"
          ]
        },
        {
          "output_type": "stream",
          "name": "stderr",
          "text": [
            "Loss=0.04525679349899292 Batch_id=468 Accuracy=97.66: 100%|██████████| 469/469 [00:18<00:00, 25.96it/s]\n"
          ]
        },
        {
          "output_type": "stream",
          "name": "stdout",
          "text": [
            "\n",
            "Test set: Average loss: 0.0205, Accuracy: 9927/10000 (99.27%)\n",
            "\n",
            "EPOCH: 11\n"
          ]
        },
        {
          "output_type": "stream",
          "name": "stderr",
          "text": [
            "Loss=0.04970937967300415 Batch_id=468 Accuracy=97.52: 100%|██████████| 469/469 [00:18<00:00, 25.47it/s]\n"
          ]
        },
        {
          "output_type": "stream",
          "name": "stdout",
          "text": [
            "\n",
            "Test set: Average loss: 0.0187, Accuracy: 9922/10000 (99.22%)\n",
            "\n",
            "EPOCH: 12\n"
          ]
        },
        {
          "output_type": "stream",
          "name": "stderr",
          "text": [
            "Loss=0.06041562557220459 Batch_id=468 Accuracy=97.67: 100%|██████████| 469/469 [00:18<00:00, 25.88it/s]\n"
          ]
        },
        {
          "output_type": "stream",
          "name": "stdout",
          "text": [
            "\n",
            "Test set: Average loss: 0.0187, Accuracy: 9928/10000 (99.28%)\n",
            "\n",
            "EPOCH: 13\n"
          ]
        },
        {
          "output_type": "stream",
          "name": "stderr",
          "text": [
            "Loss=0.032848261296749115 Batch_id=468 Accuracy=97.80: 100%|██████████| 469/469 [00:17<00:00, 26.20it/s]\n"
          ]
        },
        {
          "output_type": "stream",
          "name": "stdout",
          "text": [
            "\n",
            "Test set: Average loss: 0.0186, Accuracy: 9930/10000 (99.30%)\n",
            "\n",
            "EPOCH: 14\n"
          ]
        },
        {
          "output_type": "stream",
          "name": "stderr",
          "text": [
            "Loss=0.08620817214250565 Batch_id=468 Accuracy=97.74: 100%|██████████| 469/469 [00:18<00:00, 25.99it/s]\n"
          ]
        },
        {
          "output_type": "stream",
          "name": "stdout",
          "text": [
            "\n",
            "Test set: Average loss: 0.0188, Accuracy: 9928/10000 (99.28%)\n",
            "\n",
            "EPOCH: 15\n"
          ]
        },
        {
          "output_type": "stream",
          "name": "stderr",
          "text": [
            "Loss=0.05799892917275429 Batch_id=468 Accuracy=97.73: 100%|██████████| 469/469 [00:18<00:00, 26.00it/s]\n"
          ]
        },
        {
          "output_type": "stream",
          "name": "stdout",
          "text": [
            "\n",
            "Test set: Average loss: 0.0187, Accuracy: 9925/10000 (99.25%)\n",
            "\n",
            "EPOCH: 16\n"
          ]
        },
        {
          "output_type": "stream",
          "name": "stderr",
          "text": [
            "Loss=0.06123394891619682 Batch_id=468 Accuracy=97.65: 100%|██████████| 469/469 [00:18<00:00, 26.02it/s]\n"
          ]
        },
        {
          "output_type": "stream",
          "name": "stdout",
          "text": [
            "\n",
            "Test set: Average loss: 0.0186, Accuracy: 9926/10000 (99.26%)\n",
            "\n",
            "EPOCH: 17\n"
          ]
        },
        {
          "output_type": "stream",
          "name": "stderr",
          "text": [
            "Loss=0.04270932078361511 Batch_id=468 Accuracy=97.71: 100%|██████████| 469/469 [00:18<00:00, 25.69it/s]\n"
          ]
        },
        {
          "output_type": "stream",
          "name": "stdout",
          "text": [
            "\n",
            "Test set: Average loss: 0.0187, Accuracy: 9926/10000 (99.26%)\n",
            "\n",
            "EPOCH: 18\n"
          ]
        },
        {
          "output_type": "stream",
          "name": "stderr",
          "text": [
            "Loss=0.06956575065851212 Batch_id=468 Accuracy=97.74: 100%|██████████| 469/469 [00:17<00:00, 26.15it/s]\n"
          ]
        },
        {
          "output_type": "stream",
          "name": "stdout",
          "text": [
            "\n",
            "Test set: Average loss: 0.0186, Accuracy: 9926/10000 (99.26%)\n",
            "\n",
            "EPOCH: 19\n"
          ]
        },
        {
          "output_type": "stream",
          "name": "stderr",
          "text": [
            "Loss=0.07965157181024551 Batch_id=468 Accuracy=97.72: 100%|██████████| 469/469 [00:17<00:00, 26.13it/s]\n"
          ]
        },
        {
          "output_type": "stream",
          "name": "stdout",
          "text": [
            "\n",
            "Test set: Average loss: 0.0186, Accuracy: 9926/10000 (99.26%)\n",
            "\n"
          ]
        }
      ]
    },
    {
      "cell_type": "code",
      "source": [
        "show_misclassified_images(misclassified_images_GN, 'Group Normalisation')"
      ],
      "metadata": {
        "colab": {
          "base_uri": "https://localhost:8080/",
          "height": 901
        },
        "id": "5mLCy_RqOJrc",
        "outputId": "a599a980-5d7b-484f-e9b9-f3fb4d47eab1"
      },
      "execution_count": 18,
      "outputs": [
        {
          "output_type": "display_data",
          "data": {
            "text/plain": [
              "<Figure size 576x864 with 10 Axes>"
            ],
            "image/png": "[encoded data removed]"
          },
          "metadata": {
            "needs_background": "light"
          }
        }
      ]
    },
    {
      "cell_type": "code",
      "source": [
        "task_name = 'LN'\n",
        "train_acc_LN, train_losses_LN, test_acc_LN, test_losses_LN, misclassified_images_LN = perform_tasks(task_name)\n",
        "train_losses_LN = [i.item() for i in train_losses_LN]"
      ],
      "metadata": {
        "colab": {
          "base_uri": "https://localhost:8080/"
        },
        "outputId": "53a4ff83-5b16-4d85-b7e0-3d09665dee1e",
        "id": "NLNtpPYVOdwW"
      },
      "execution_count": 19,
      "outputs": [
        {
          "output_type": "stream",
          "name": "stdout",
          "text": [
            "You have chosen LN, Now we will perform Layer Normalisation\n",
            "EPOCH: 0\n"
          ]
        },
        {
          "output_type": "stream",
          "name": "stderr",
          "text": [
            "Loss=0.20948584377765656 Batch_id=468 Accuracy=82.77: 100%|██████████| 469/469 [00:19<00:00, 24.66it/s]\n"
          ]
        },
        {
          "output_type": "stream",
          "name": "stdout",
          "text": [
            "\n",
            "Test set: Average loss: 0.1382, Accuracy: 9667/10000 (96.67%)\n",
            "\n",
            "EPOCH: 1\n"
          ]
        },
        {
          "output_type": "stream",
          "name": "stderr",
          "text": [
            "Loss=0.16525419056415558 Batch_id=468 Accuracy=94.24: 100%|██████████| 469/469 [00:19<00:00, 24.57it/s]\n"
          ]
        },
        {
          "output_type": "stream",
          "name": "stdout",
          "text": [
            "\n",
            "Test set: Average loss: 0.0946, Accuracy: 9731/10000 (97.31%)\n",
            "\n",
            "EPOCH: 2\n"
          ]
        },
        {
          "output_type": "stream",
          "name": "stderr",
          "text": [
            "Loss=0.09798494726419449 Batch_id=468 Accuracy=95.23: 100%|██████████| 469/469 [00:18<00:00, 24.76it/s]\n"
          ]
        },
        {
          "output_type": "stream",
          "name": "stdout",
          "text": [
            "\n",
            "Test set: Average loss: 0.0731, Accuracy: 9785/10000 (97.85%)\n",
            "\n",
            "EPOCH: 3\n"
          ]
        },
        {
          "output_type": "stream",
          "name": "stderr",
          "text": [
            "Loss=0.06869831681251526 Batch_id=468 Accuracy=95.89: 100%|██████████| 469/469 [00:18<00:00, 25.01it/s]\n"
          ]
        },
        {
          "output_type": "stream",
          "name": "stdout",
          "text": [
            "\n",
            "Test set: Average loss: 0.0609, Accuracy: 9827/10000 (98.27%)\n",
            "\n",
            "EPOCH: 4\n"
          ]
        },
        {
          "output_type": "stream",
          "name": "stderr",
          "text": [
            "Loss=0.14128398895263672 Batch_id=468 Accuracy=96.20: 100%|██████████| 469/469 [00:18<00:00, 24.88it/s]\n"
          ]
        },
        {
          "output_type": "stream",
          "name": "stdout",
          "text": [
            "\n",
            "Test set: Average loss: 0.0583, Accuracy: 9834/10000 (98.34%)\n",
            "\n",
            "EPOCH: 5\n"
          ]
        },
        {
          "output_type": "stream",
          "name": "stderr",
          "text": [
            "Loss=0.13747243583202362 Batch_id=468 Accuracy=96.43: 100%|██████████| 469/469 [00:18<00:00, 24.99it/s]\n"
          ]
        },
        {
          "output_type": "stream",
          "name": "stdout",
          "text": [
            "\n",
            "Test set: Average loss: 0.0540, Accuracy: 9830/10000 (98.30%)\n",
            "\n",
            "EPOCH: 6\n"
          ]
        },
        {
          "output_type": "stream",
          "name": "stderr",
          "text": [
            "Loss=0.0532214492559433 Batch_id=468 Accuracy=96.82: 100%|██████████| 469/469 [00:19<00:00, 24.65it/s]\n"
          ]
        },
        {
          "output_type": "stream",
          "name": "stdout",
          "text": [
            "\n",
            "Test set: Average loss: 0.0468, Accuracy: 9858/10000 (98.58%)\n",
            "\n",
            "EPOCH: 7\n"
          ]
        },
        {
          "output_type": "stream",
          "name": "stderr",
          "text": [
            "Loss=0.12967424094676971 Batch_id=468 Accuracy=96.71: 100%|██████████| 469/469 [00:19<00:00, 24.45it/s]\n"
          ]
        },
        {
          "output_type": "stream",
          "name": "stdout",
          "text": [
            "\n",
            "Test set: Average loss: 0.0455, Accuracy: 9868/10000 (98.68%)\n",
            "\n",
            "EPOCH: 8\n"
          ]
        },
        {
          "output_type": "stream",
          "name": "stderr",
          "text": [
            "Loss=0.25995495915412903 Batch_id=468 Accuracy=96.91: 100%|██████████| 469/469 [00:18<00:00, 24.79it/s]\n"
          ]
        },
        {
          "output_type": "stream",
          "name": "stdout",
          "text": [
            "\n",
            "Test set: Average loss: 0.0451, Accuracy: 9875/10000 (98.75%)\n",
            "\n",
            "EPOCH: 9\n"
          ]
        },
        {
          "output_type": "stream",
          "name": "stderr",
          "text": [
            "Loss=0.04723837599158287 Batch_id=468 Accuracy=96.86: 100%|██████████| 469/469 [00:18<00:00, 24.98it/s]\n"
          ]
        },
        {
          "output_type": "stream",
          "name": "stdout",
          "text": [
            "\n",
            "Test set: Average loss: 0.0451, Accuracy: 9856/10000 (98.56%)\n",
            "\n",
            "EPOCH: 10\n"
          ]
        },
        {
          "output_type": "stream",
          "name": "stderr",
          "text": [
            "Loss=0.055987898260354996 Batch_id=468 Accuracy=96.93: 100%|██████████| 469/469 [00:18<00:00, 25.10it/s]\n"
          ]
        },
        {
          "output_type": "stream",
          "name": "stdout",
          "text": [
            "\n",
            "Test set: Average loss: 0.0450, Accuracy: 9863/10000 (98.63%)\n",
            "\n",
            "EPOCH: 11\n"
          ]
        },
        {
          "output_type": "stream",
          "name": "stderr",
          "text": [
            "Loss=0.05027118697762489 Batch_id=468 Accuracy=96.93: 100%|██████████| 469/469 [00:18<00:00, 25.22it/s]\n"
          ]
        },
        {
          "output_type": "stream",
          "name": "stdout",
          "text": [
            "\n",
            "Test set: Average loss: 0.0431, Accuracy: 9866/10000 (98.66%)\n",
            "\n",
            "EPOCH: 12\n"
          ]
        },
        {
          "output_type": "stream",
          "name": "stderr",
          "text": [
            "Loss=0.08208596706390381 Batch_id=468 Accuracy=96.92: 100%|██████████| 469/469 [00:18<00:00, 25.14it/s]\n"
          ]
        },
        {
          "output_type": "stream",
          "name": "stdout",
          "text": [
            "\n",
            "Test set: Average loss: 0.0453, Accuracy: 9864/10000 (98.64%)\n",
            "\n",
            "EPOCH: 13\n"
          ]
        },
        {
          "output_type": "stream",
          "name": "stderr",
          "text": [
            "Loss=0.0700497254729271 Batch_id=468 Accuracy=96.95: 100%|██████████| 469/469 [00:18<00:00, 24.87it/s]\n"
          ]
        },
        {
          "output_type": "stream",
          "name": "stdout",
          "text": [
            "\n",
            "Test set: Average loss: 0.0430, Accuracy: 9865/10000 (98.65%)\n",
            "\n",
            "EPOCH: 14\n"
          ]
        },
        {
          "output_type": "stream",
          "name": "stderr",
          "text": [
            "Loss=0.10827362537384033 Batch_id=468 Accuracy=96.92: 100%|██████████| 469/469 [00:18<00:00, 24.79it/s]\n"
          ]
        },
        {
          "output_type": "stream",
          "name": "stdout",
          "text": [
            "\n",
            "Test set: Average loss: 0.0423, Accuracy: 9878/10000 (98.78%)\n",
            "\n",
            "EPOCH: 15\n"
          ]
        },
        {
          "output_type": "stream",
          "name": "stderr",
          "text": [
            "Loss=0.09508830308914185 Batch_id=468 Accuracy=96.98: 100%|██████████| 469/469 [00:18<00:00, 24.85it/s]\n"
          ]
        },
        {
          "output_type": "stream",
          "name": "stdout",
          "text": [
            "\n",
            "Test set: Average loss: 0.0453, Accuracy: 9852/10000 (98.52%)\n",
            "\n",
            "EPOCH: 16\n"
          ]
        },
        {
          "output_type": "stream",
          "name": "stderr",
          "text": [
            "Loss=0.10061508417129517 Batch_id=468 Accuracy=97.04: 100%|██████████| 469/469 [00:18<00:00, 25.05it/s]\n"
          ]
        },
        {
          "output_type": "stream",
          "name": "stdout",
          "text": [
            "\n",
            "Test set: Average loss: 0.0452, Accuracy: 9871/10000 (98.71%)\n",
            "\n",
            "EPOCH: 17\n"
          ]
        },
        {
          "output_type": "stream",
          "name": "stderr",
          "text": [
            "Loss=0.09726373106241226 Batch_id=468 Accuracy=97.00: 100%|██████████| 469/469 [00:18<00:00, 25.14it/s]\n"
          ]
        },
        {
          "output_type": "stream",
          "name": "stdout",
          "text": [
            "\n",
            "Test set: Average loss: 0.0436, Accuracy: 9873/10000 (98.73%)\n",
            "\n",
            "EPOCH: 18\n"
          ]
        },
        {
          "output_type": "stream",
          "name": "stderr",
          "text": [
            "Loss=0.11846256256103516 Batch_id=468 Accuracy=96.96: 100%|██████████| 469/469 [00:18<00:00, 25.10it/s]\n"
          ]
        },
        {
          "output_type": "stream",
          "name": "stdout",
          "text": [
            "\n",
            "Test set: Average loss: 0.0441, Accuracy: 9861/10000 (98.61%)\n",
            "\n",
            "EPOCH: 19\n"
          ]
        },
        {
          "output_type": "stream",
          "name": "stderr",
          "text": [
            "Loss=0.07192239910364151 Batch_id=468 Accuracy=97.03: 100%|██████████| 469/469 [00:18<00:00, 25.40it/s]\n"
          ]
        },
        {
          "output_type": "stream",
          "name": "stdout",
          "text": [
            "\n",
            "Test set: Average loss: 0.0456, Accuracy: 9869/10000 (98.69%)\n",
            "\n"
          ]
        }
      ]
    },
    {
      "cell_type": "code",
      "source": [
        "show_misclassified_images(misclassified_images_LN, 'Layer Normalisation')"
      ],
      "metadata": {
        "colab": {
          "base_uri": "https://localhost:8080/",
          "height": 901
        },
        "outputId": "eec59d96-6847-48d9-a460-73e8c2afe19f",
        "id": "64LNHLbsOdwX"
      },
      "execution_count": 20,
      "outputs": [
        {
          "output_type": "display_data",
          "data": {
            "text/plain": [
              "<Figure size 576x864 with 10 Axes>"
            ],
            "image/png": "[encoded data removed]"
          },
          "metadata": {
            "needs_background": "light"
          }
        }
      ]
    },
    {
      "cell_type": "markdown",
      "source": [
        "**Bacth Normalisation with L1 regularisation**"
      ],
      "metadata": {
        "id": "yXpMr9d5OyIe"
      }
    },
    {
      "cell_type": "code",
      "source": [
        "task_name = 'BN'\n",
        "train_acc_BN, train_losses_BN, test_acc_BN, test_losses_BN, misclassified_images_BN = perform_tasks(task_name)\n",
        "train_losses_BN = [i.item() for i in train_losses_BN]"
      ],
      "metadata": {
        "colab": {
          "base_uri": "https://localhost:8080/"
        },
        "outputId": "6a20ec83-f750-45bb-bab7-794e6933c3d9",
        "id": "qQWfQzctOyRU"
      },
      "execution_count": 21,
      "outputs": [
        {
          "output_type": "stream",
          "name": "stdout",
          "text": [
            "You have chosen BN, Now we will perform Batch Normalisation with L1 regularisation\n",
            "EPOCH: 0\n"
          ]
        },
        {
          "output_type": "stream",
          "name": "stderr",
          "text": [
            "Loss=1.754043698310852 Batch_id=468 Accuracy=82.95: 100%|██████████| 469/469 [00:19<00:00, 23.65it/s]\n"
          ]
        },
        {
          "output_type": "stream",
          "name": "stdout",
          "text": [
            "\n",
            "Test set: Average loss: 0.8237, Accuracy: 8164/10000 (81.64%)\n",
            "\n",
            "EPOCH: 1\n"
          ]
        },
        {
          "output_type": "stream",
          "name": "stderr",
          "text": [
            "Loss=1.1470924615859985 Batch_id=468 Accuracy=89.70: 100%|██████████| 469/469 [00:19<00:00, 24.39it/s]\n"
          ]
        },
        {
          "output_type": "stream",
          "name": "stdout",
          "text": [
            "\n",
            "Test set: Average loss: 0.9903, Accuracy: 6651/10000 (66.51%)\n",
            "\n",
            "EPOCH: 2\n"
          ]
        },
        {
          "output_type": "stream",
          "name": "stderr",
          "text": [
            "Loss=1.0104014873504639 Batch_id=468 Accuracy=90.13: 100%|██████████| 469/469 [00:19<00:00, 24.20it/s]\n"
          ]
        },
        {
          "output_type": "stream",
          "name": "stdout",
          "text": [
            "\n",
            "Test set: Average loss: 0.6918, Accuracy: 7792/10000 (77.92%)\n",
            "\n",
            "EPOCH: 3\n"
          ]
        },
        {
          "output_type": "stream",
          "name": "stderr",
          "text": [
            "Loss=1.466449499130249 Batch_id=468 Accuracy=89.86: 100%|██████████| 469/469 [00:19<00:00, 23.92it/s]\n"
          ]
        },
        {
          "output_type": "stream",
          "name": "stdout",
          "text": [
            "\n",
            "Test set: Average loss: 5.0010, Accuracy: 3986/10000 (39.86%)\n",
            "\n",
            "EPOCH: 4\n"
          ]
        },
        {
          "output_type": "stream",
          "name": "stderr",
          "text": [
            "Loss=1.0603042840957642 Batch_id=468 Accuracy=88.52: 100%|██████████| 469/469 [00:19<00:00, 23.90it/s]\n"
          ]
        },
        {
          "output_type": "stream",
          "name": "stdout",
          "text": [
            "\n",
            "Test set: Average loss: 0.9016, Accuracy: 6894/10000 (68.94%)\n",
            "\n",
            "EPOCH: 5\n"
          ]
        },
        {
          "output_type": "stream",
          "name": "stderr",
          "text": [
            "Loss=0.9505712985992432 Batch_id=468 Accuracy=89.60: 100%|██████████| 469/469 [00:19<00:00, 23.71it/s]\n"
          ]
        },
        {
          "output_type": "stream",
          "name": "stdout",
          "text": [
            "\n",
            "Test set: Average loss: 0.5401, Accuracy: 8736/10000 (87.36%)\n",
            "\n",
            "EPOCH: 6\n"
          ]
        },
        {
          "output_type": "stream",
          "name": "stderr",
          "text": [
            "Loss=0.7473505735397339 Batch_id=468 Accuracy=92.27: 100%|██████████| 469/469 [00:19<00:00, 23.50it/s]\n"
          ]
        },
        {
          "output_type": "stream",
          "name": "stdout",
          "text": [
            "\n",
            "Test set: Average loss: 0.1856, Accuracy: 9609/10000 (96.09%)\n",
            "\n",
            "EPOCH: 7\n"
          ]
        },
        {
          "output_type": "stream",
          "name": "stderr",
          "text": [
            "Loss=0.8415389657020569 Batch_id=468 Accuracy=92.08: 100%|██████████| 469/469 [00:19<00:00, 23.80it/s]\n"
          ]
        },
        {
          "output_type": "stream",
          "name": "stdout",
          "text": [
            "\n",
            "Test set: Average loss: 0.1889, Accuracy: 9511/10000 (95.11%)\n",
            "\n",
            "EPOCH: 8\n"
          ]
        },
        {
          "output_type": "stream",
          "name": "stderr",
          "text": [
            "Loss=0.721432089805603 Batch_id=468 Accuracy=92.04: 100%|██████████| 469/469 [00:19<00:00, 23.84it/s]\n"
          ]
        },
        {
          "output_type": "stream",
          "name": "stdout",
          "text": [
            "\n",
            "Test set: Average loss: 0.2357, Accuracy: 9407/10000 (94.07%)\n",
            "\n",
            "EPOCH: 9\n"
          ]
        },
        {
          "output_type": "stream",
          "name": "stderr",
          "text": [
            "Loss=0.7655919790267944 Batch_id=468 Accuracy=91.95: 100%|██████████| 469/469 [00:20<00:00, 23.42it/s]\n"
          ]
        },
        {
          "output_type": "stream",
          "name": "stdout",
          "text": [
            "\n",
            "Test set: Average loss: 0.3678, Accuracy: 8989/10000 (89.89%)\n",
            "\n",
            "EPOCH: 10\n"
          ]
        },
        {
          "output_type": "stream",
          "name": "stderr",
          "text": [
            "Loss=0.8030099868774414 Batch_id=468 Accuracy=91.96: 100%|██████████| 469/469 [00:19<00:00, 23.83it/s]\n"
          ]
        },
        {
          "output_type": "stream",
          "name": "stdout",
          "text": [
            "\n",
            "Test set: Average loss: 0.1611, Accuracy: 9645/10000 (96.45%)\n",
            "\n",
            "EPOCH: 11\n"
          ]
        },
        {
          "output_type": "stream",
          "name": "stderr",
          "text": [
            "Loss=0.7599208354949951 Batch_id=468 Accuracy=91.95: 100%|██████████| 469/469 [00:19<00:00, 23.93it/s]\n"
          ]
        },
        {
          "output_type": "stream",
          "name": "stdout",
          "text": [
            "\n",
            "Test set: Average loss: 0.1932, Accuracy: 9636/10000 (96.36%)\n",
            "\n",
            "EPOCH: 12\n"
          ]
        },
        {
          "output_type": "stream",
          "name": "stderr",
          "text": [
            "Loss=0.6952192187309265 Batch_id=468 Accuracy=93.25: 100%|██████████| 469/469 [00:19<00:00, 23.78it/s]\n"
          ]
        },
        {
          "output_type": "stream",
          "name": "stdout",
          "text": [
            "\n",
            "Test set: Average loss: 0.1414, Accuracy: 9698/10000 (96.98%)\n",
            "\n",
            "EPOCH: 13\n"
          ]
        },
        {
          "output_type": "stream",
          "name": "stderr",
          "text": [
            "Loss=0.7075787782669067 Batch_id=468 Accuracy=93.10: 100%|██████████| 469/469 [00:19<00:00, 23.49it/s]\n"
          ]
        },
        {
          "output_type": "stream",
          "name": "stdout",
          "text": [
            "\n",
            "Test set: Average loss: 0.1280, Accuracy: 9736/10000 (97.36%)\n",
            "\n",
            "EPOCH: 14\n"
          ]
        },
        {
          "output_type": "stream",
          "name": "stderr",
          "text": [
            "Loss=0.6282301545143127 Batch_id=468 Accuracy=93.18: 100%|██████████| 469/469 [00:20<00:00, 23.43it/s]\n"
          ]
        },
        {
          "output_type": "stream",
          "name": "stdout",
          "text": [
            "\n",
            "Test set: Average loss: 0.1265, Accuracy: 9710/10000 (97.10%)\n",
            "\n",
            "EPOCH: 15\n"
          ]
        },
        {
          "output_type": "stream",
          "name": "stderr",
          "text": [
            "Loss=0.6804661750793457 Batch_id=468 Accuracy=93.08: 100%|██████████| 469/469 [00:19<00:00, 23.73it/s]\n"
          ]
        },
        {
          "output_type": "stream",
          "name": "stdout",
          "text": [
            "\n",
            "Test set: Average loss: 0.1502, Accuracy: 9683/10000 (96.83%)\n",
            "\n",
            "EPOCH: 16\n"
          ]
        },
        {
          "output_type": "stream",
          "name": "stderr",
          "text": [
            "Loss=0.6936613321304321 Batch_id=468 Accuracy=93.09: 100%|██████████| 469/469 [00:20<00:00, 23.33it/s]\n"
          ]
        },
        {
          "output_type": "stream",
          "name": "stdout",
          "text": [
            "\n",
            "Test set: Average loss: 0.1341, Accuracy: 9741/10000 (97.41%)\n",
            "\n",
            "EPOCH: 17\n"
          ]
        },
        {
          "output_type": "stream",
          "name": "stderr",
          "text": [
            "Loss=0.744918704032898 Batch_id=468 Accuracy=93.08: 100%|██████████| 469/469 [00:20<00:00, 23.21it/s]\n"
          ]
        },
        {
          "output_type": "stream",
          "name": "stdout",
          "text": [
            "\n",
            "Test set: Average loss: 0.1276, Accuracy: 9713/10000 (97.13%)\n",
            "\n",
            "EPOCH: 18\n"
          ]
        },
        {
          "output_type": "stream",
          "name": "stderr",
          "text": [
            "Loss=0.6583273410797119 Batch_id=468 Accuracy=93.43: 100%|██████████| 469/469 [00:19<00:00, 23.50it/s]\n"
          ]
        },
        {
          "output_type": "stream",
          "name": "stdout",
          "text": [
            "\n",
            "Test set: Average loss: 0.1245, Accuracy: 9744/10000 (97.44%)\n",
            "\n",
            "EPOCH: 19\n"
          ]
        },
        {
          "output_type": "stream",
          "name": "stderr",
          "text": [
            "Loss=0.6359788179397583 Batch_id=468 Accuracy=93.46: 100%|██████████| 469/469 [00:19<00:00, 24.00it/s]\n"
          ]
        },
        {
          "output_type": "stream",
          "name": "stdout",
          "text": [
            "\n",
            "Test set: Average loss: 0.1252, Accuracy: 9746/10000 (97.46%)\n",
            "\n"
          ]
        }
      ]
    },
    {
      "cell_type": "code",
      "source": [
        "show_misclassified_images(misclassified_images_BN, 'Batch Normalisation with L1 regularisation')"
      ],
      "metadata": {
        "colab": {
          "base_uri": "https://localhost:8080/",
          "height": 901
        },
        "outputId": "e4934da2-536c-4b27-f22f-adb9aa9933a5",
        "id": "yJ1yuQrjOyRU"
      },
      "execution_count": 22,
      "outputs": [
        {
          "output_type": "display_data",
          "data": {
            "text/plain": [
              "<Figure size 576x864 with 10 Axes>"
            ],
            "image/png": "[encoded data removed]"
          },
          "metadata": {
            "needs_background": "light"
          }
        }
      ]
    },
    {
      "cell_type": "markdown",
      "source": [
        "**Comparing loses and accuracies**"
      ],
      "metadata": {
        "id": "18Y3jb716mRr"
      }
    },
    {
      "cell_type": "code",
      "source": [
        "fig, axs = plt.subplots(1,2,figsize=(15,5))\n",
        "axs[0].plot(test_losses_GN, label='Group Normalisation')\n",
        "axs[0].plot(test_losses_LN, label = 'Layer Normalisation')\n",
        "axs[0].plot(test_losses_BN, label = 'Batch Normalisation + L1')\n",
        "axs[0].set_title(\"Test Loss\")\n",
        "axs[0].set_xlabel('Epochs')\n",
        "axs[0].set_ylabel('Loss')\n",
        "axs[0].legend()\n",
        "\n",
        "axs[1].plot(test_acc_GN, label='Group Normalisation')\n",
        "axs[1].plot(test_acc_LN, label = 'Layer Normalisation')\n",
        "axs[1].plot(test_acc_BN, label = 'Batch Normalisation + L1')\n",
        "axs[1].set_title(\"Test Accuracy\")\n",
        "axs[0].set_xlabel('Epochs')\n",
        "axs[0].set_ylabel('Accuracy')\n",
        "axs[1].legend()"
      ],
      "metadata": {
        "colab": {
          "base_uri": "https://localhost:8080/",
          "height": 368
        },
        "id": "fpSfdvmn8QGv",
        "outputId": "1bfc74b6-b9bc-45c3-c561-5d14098d3568"
      },
      "execution_count": 23,
      "outputs": [
        {
          "output_type": "execute_result",
          "data": {
            "text/plain": [
              "<matplotlib.legend.Legend at 0x7f769e06ff40>"
            ]
          },
          "metadata": {},
          "execution_count": 23
        },
        {
          "output_type": "display_data",
          "data": {
            "text/plain": [
              "<Figure size 1080x360 with 2 Axes>"
            ],
            "image/png": "[encoded data removed]"
          },
          "metadata": {
            "needs_background": "light"
          }
        }
      ]
    }
  ]
}